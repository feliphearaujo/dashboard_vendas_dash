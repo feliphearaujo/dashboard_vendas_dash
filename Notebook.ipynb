{
 "cells": [
  {
   "cell_type": "code",
   "execution_count": 31,
   "id": "0aac35e9",
   "metadata": {},
   "outputs": [
    {
     "data": {
      "text/html": [
       "\n",
       "        <iframe\n",
       "            width=\"100%\"\n",
       "            height=\"650\"\n",
       "            src=\"http://127.0.0.1:8050/\"\n",
       "            frameborder=\"0\"\n",
       "            allowfullscreen\n",
       "            \n",
       "        ></iframe>\n",
       "        "
      ],
      "text/plain": [
       "<IPython.lib.display.IFrame at 0x1b347438c70>"
      ]
     },
     "metadata": {},
     "output_type": "display_data"
    }
   ],
   "source": [
    "# Import packages\n",
    "from dash import Dash, html, dash_table, dcc, callback, Output, Input\n",
    "import pandas as pd\n",
    "import plotly.express as px\n",
    "import dash_bootstrap_components as dbc\n",
    "\n",
    "# Incorporate data\n",
    "df = pd.read_csv('https://github.com/feliphearaujo/dashboard_vendas_dash/blob/main/base_dados.csv?raw=true',encoding = 'latin-1')\n",
    "\n",
    "# Initialize the app\n",
    "\n",
    "external_stylesheets = [dbc.themes.SLATE]\n",
    "\n",
    "app = Dash(__name__, external_stylesheets=external_stylesheets)\n",
    "\n",
    "# App layout\n",
    "app.layout = dbc.Container([\n",
    "    dbc.Row([\n",
    "        html.Div('DASHBOARD VENDAS', className=\".text-light-emphasis text-center fs-3\",style={\n",
    "                            'text-align': 'center',\n",
    "                            'font-weight': 'bold',\n",
    "                            'font-size': '60px',\n",
    "                            'color': '#FFFF',\n",
    "                            'margin-top':'10px'\n",
    "        })\n",
    "    ]),\n",
    "    html.Hr(style={'border-color': '#FFFF','height': '15px','margin-bottom': '10px'}),\n",
    "    dbc.Row(\n",
    "        [\n",
    "            dbc.Col(\n",
    "                md=6,\n",
    "                children=[\n",
    "                    dbc.Row(\n",
    "                        style={'margin': '5px'},children=[\n",
    "                        html.H4('Total de Vendas / Mês',style={\n",
    "                            'text-align': 'center',\n",
    "                            'font-weight': 'bold',\n",
    "                            'font-size': '30px',\n",
    "                            'color': '#FFFF',\n",
    "                            'background-color': '#212428',\n",
    "                            'padding':'10px',\n",
    "                            'margin':'5px'\n",
    "                        }),\n",
    "                        ]\n",
    "                    )\n",
    "                ]\n",
    "            ),\n",
    "            dbc.Col(\n",
    "                md=6,\n",
    "                children=[\n",
    "                    dbc.Row(\n",
    "                        style={'margin': '5px'},children=[\n",
    "                        html.H4('Total de Vendas / Representante',style={\n",
    "                            'text-align': 'center',\n",
    "                            'font-weight': 'bold',\n",
    "                            'font-size': '30px',\n",
    "                            'color': '#FFFF',\n",
    "                            'background-color': '#212428',\n",
    "                            'padding':'10px',\n",
    "                            'margin':'5px'\n",
    "                        }),\n",
    "                        ]\n",
    "                    )\n",
    "                ]\n",
    "            ),\n",
    "            dbc.Row(\n",
    "\n",
    "            )\n",
    "        ]\n",
    "        )\n",
    "\n",
    "\n",
    "    \n",
    "\n",
    "], fluid=True)\n",
    "\n",
    "# Run the app\n",
    "if __name__ == '__main__':\n",
    "    app.run(debug=True)"
   ]
  },
  {
   "cell_type": "code",
   "execution_count": null,
   "id": "a67125c1",
   "metadata": {},
   "outputs": [],
   "source": [
    "global_df = df.copy()\n",
    "\n",
    "global_df['Data_Pedido'] = pd.to_datetime(global_df['Data_Pedido'])\n",
    "global_df['Ano'] = global_df['Data_Pedido'].dt.year\n",
    "global_df['Mes'] = global_df['Data_Pedido'].dt.month_name()"
   ]
  },
  {
   "cell_type": "code",
   "execution_count": null,
   "id": "57b1876f",
   "metadata": {},
   "outputs": [],
   "source": []
  }
 ],
 "metadata": {
  "kernelspec": {
   "display_name": "Python 3 (ipykernel)",
   "language": "python",
   "name": "python3"
  },
  "language_info": {
   "codemirror_mode": {
    "name": "ipython",
    "version": 3
   },
   "file_extension": ".py",
   "mimetype": "text/x-python",
   "name": "python",
   "nbconvert_exporter": "python",
   "pygments_lexer": "ipython3",
   "version": "3.9.7"
  }
 },
 "nbformat": 4,
 "nbformat_minor": 5
}
